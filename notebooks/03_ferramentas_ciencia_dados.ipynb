{
 "cells": [
  {
   "cell_type": "code",
   "execution_count": null,
   "id": "0",
   "metadata": {},
   "outputs": [],
   "source": [
    "# Módulo 3: Ferramentas Essenciais de Ciência de Dados (NumPy e Pandas)\n",
    "\n",
    "# Documentação: Importando a biblioteca NumPy\n",
    "import numpy as np\n",
    "\n",
    "# 1. Criação de um Array (Vetor 1D)\n",
    "dados_vendas = [100, 250, 400, 120] # Lista Python\n",
    "vendas_array = np.array(dados_vendas) # Array NumPy\n",
    "\n",
    "print(f\"Lista Python: {dados_vendas}\")\n",
    "print(f\"Array NumPy: {vendas_array}\")\n",
    "\n",
    "# 2. Operações em Massa: Aplicando um aumento de 10% em todas as vendas\n",
    "aumento_percentual = 0.10\n",
    "vendas_com_aumento = vendas_array * (1 + aumento_percentual)\n",
    "\n",
    "print(\"\\n---\")\n",
    "# A operação de multiplicação foi aplicada a CADA elemento do array, de uma vez!\n",
    "print(f\"Vendas com aumento de 10%: {vendas_com_aumento}\")\n",
    "\n",
    "# 3. Funções Úteis: Cálculo rápido de estatísticas\n",
    "media_vendas = np.mean(vendas_array)\n",
    "print(f\"Média das vendas originais: R${media_vendas:.2f}\")"
   ]
  },
  {
   "cell_type": "code",
   "execution_count": null,
   "id": "1",
   "metadata": {},
   "outputs": [],
   "source": [
    "# Documentação: Importando a biblioteca Pandas\n",
    "import pandas as pd\n",
    "\n",
    "# Reutilizando a sua lista de dicionários do Módulo 2\n",
    "registro_vendas = [\n",
    "    {\"item\": \"Laptop\", \"quantidade\": 1, \"valor_unitario\": 5000.99},\n",
    "    {\"item\": \"Mouse\", \"quantidade\": 10, \"valor_unitario\": 299.99},\n",
    "    {\"item\": \"Teclado\", \"quantidade\": 5, \"valor_unitario\": 499.99},\n",
    "]\n",
    "\n",
    "# 1. Criação do DataFrame\n",
    "df_vendas = pd.DataFrame(registro_vendas)\n",
    "\n",
    "# 2. Exibindo o DataFrame (O Jupyter mostra isso como uma tabela formatada!)\n",
    "print(\"Seu DataFrame (Tabela de Dados):\")\n",
    "print(df_vendas)\n",
    "\n",
    "# 3. Adicionando uma nova coluna (Processamento de Dados)\n",
    "# O Pandas, assim como o NumPy, aplica a multiplicação em todos os valores da coluna\n",
    "df_vendas['valor_total'] = df_vendas['quantidade'] * df_vendas['valor_unitario']\n",
    "\n",
    "# 4. Análise Rápida: Exibindo a média da coluna 'valor_unitario'\n",
    "media_unitario = df_vendas['valor_unitario'].mean()\n",
    "\n",
    "print(\"\\n---\")\n",
    "print(\"DataFrame com coluna 'valor_total' adicionada:\")\n",
    "print(df_vendas)\n",
    "print(f\"\\nMédia do valor unitário: R${media_unitario:.2f}\")"
   ]
  },
  {
   "cell_type": "code",
   "execution_count": null,
   "id": "2",
   "metadata": {},
   "outputs": [],
   "source": [
    "# Exercício de Fixação do Módulo 3: Prática com Pandas\n",
    "# Desafio:\n",
    "# Use o df_vendas (o DataFrame que você acabou de criar).\n",
    "# Filtre o DataFrame para mostrar apenas as vendas onde a 'quantidade' é maior que 5.\n",
    "# Imprima o resultado desse filtro.\n",
    "\n",
    "# Documentação: filtragem do DataFrame e impressão do resultado do filtro\n",
    "filtered_df = df_vendas[df_vendas['quantidade'] > 5]\n",
    "print(filtered_df)"
   ]
  },
  {
   "cell_type": "code",
   "execution_count": null,
   "id": "3",
   "metadata": {},
   "outputs": [],
   "source": [
    "# Documentação: Carregar e Limpar Dados\n",
    "import pandas as pd\n",
    "import numpy as np\n",
    "\n",
    "# Dados simulados com valores ausentes (NaN)\n",
    "dados = {\n",
    "    'Marca': ['Toyota', 'Honda', 'Ford', 'Tesla', 'Chevrolet', 'BMW'],\n",
    "    'Modelo': ['Corolla', 'Civic', 'Fusion', 'Model 3', 'Cruze', 'X1'],\n",
    "    'Preco': [25000, 32000, np.nan, 55000, 21000, 48000], # Preço do Fusion está ausente\n",
    "    'Ano': [2018, 2020, 2017, 2022, 2019, np.nan],        # Ano do BMW está ausente\n",
    "    'Quilometragem': [50000, 30000, 65000, 15000, 40000, 20000]\n",
    "}\n",
    "\n",
    "# Cria o DataFrame e salva como CSV\n",
    "df_exemplo = pd.DataFrame(dados)\n",
    "df_exemplo.to_csv('../data/raw/carros.csv', index=False) # index=False evita salvar o índice como coluna\n",
    "\n",
    "print(\"Arquivo 'carros.csv' criado com dados de exemplo e ausentes.\")"
   ]
  },
  {
   "cell_type": "code",
   "execution_count": null,
   "id": "4",
   "metadata": {},
   "outputs": [],
   "source": [
    "# Documentação: Carregando o arquivo e visualizando as primeiras linhas.\n",
    "\n",
    "# Carrega o arquivo CSV em um novo DataFrame\n",
    "df_carros = pd.read_csv('../data/raw/carros.csv')\n",
    "\n",
    "print(\"--- DataFrame Carregado (As primeiras 5 linhas) ---\")\n",
    "# .head() mostra as primeiras 5 linhas\n",
    "print(df_carros.head()) \n",
    "\n",
    "print(\"\\n--- Informações sobre o DataFrame (Missing Data) ---\")\n",
    "# .info() é crucial para ver o tipo de dado de cada coluna e quantos valores não-nulos existem\n",
    "df_carros.info()"
   ]
  },
  {
   "cell_type": "code",
   "execution_count": null,
   "id": "5",
   "metadata": {},
   "outputs": [],
   "source": [
    "# Documentação: Removendo todas as linhas que contêm pelo menos um valor NaN (Not a Number).\n",
    "# OBS.: código comentado para reforçar aprendizado mas sem executar, por não ser objetivo neste momento.\n",
    "\n",
    "# Cria um novo DataFrame apenas com as linhas COMPLETAS\n",
    "#df_limpo_dropna = df_carros.dropna()\n",
    "\n",
    "#print(\"\\n--- DataFrame após a remoção de linhas incompletas ---\")\n",
    "#print(df_limpo_dropna) \n",
    "#print(f\"\\nTamanho original: {len(df_carros)} linhas. Tamanho limpo: {len(df_limpo_dropna)} linhas.\")"
   ]
  },
  {
   "cell_type": "code",
   "execution_count": null,
   "id": "6",
   "metadata": {},
   "outputs": [],
   "source": [
    "# Documentação: Preenchendo valores NaN com a média da coluna.\n",
    "\n",
    "# 1. Calculando a média da coluna 'Preco' (apenas para valores não-nulos)\n",
    "media_preco = df_carros['Preco'].mean()\n",
    "print(f\"Média do preço calculado: R${media_preco:.2f}\")\n",
    "\n",
    "# 2. Preenchendo os valores NaN na coluna 'Preco' com essa média\n",
    "# .fillna(valor, inplace=True) altera o DataFrame original\n",
    "df_carros['Preco'].fillna(media_preco, inplace=True)\n",
    "\n",
    "print(\"\\n--- Preenchimento concluído (Preço do Fusion agora é a média) ---\")\n",
    "print(df_carros)"
   ]
  },
  {
   "cell_type": "code",
   "execution_count": null,
   "id": "7",
   "metadata": {},
   "outputs": [],
   "source": [
    "# Documentação: Correção do erro de conversão de tipo de dado.\n",
    "\n",
    "# 1. Aplicar .round(0) para garantir que todos os valores float terminem em .0\n",
    "# Isso torna a conversão para int \"segura\".\n",
    "df_carros['Ano'] = df_carros['Ano'].round(0)\n",
    "\n",
    "# 2. Agora, convertemos para o tipo Int64 (o que suporta NaN)\n",
    "# O erro TypeError não deve ocorrer mais.\n",
    "df_carros['Ano'] = df_carros['Ano'].astype('Int64') \n",
    "\n",
    "# 3. Calculamos a média (que agora será uma média de Int64) e preenchemos.\n",
    "# Usamos .floor() do numpy para arredondar para baixo, garantindo que seja um ano válido.\n",
    "# Importante: Como agora a coluna é Int64, .mean() pode retornar float, por isso o int() é mantido.\n",
    "media_ano = int(np.floor(df_carros['Ano'].mean())) \n",
    "\n",
    "print(f\"Média do ano calculado (arredondado): {media_ano}\")\n",
    "\n",
    "# 4. Preencher o valor faltante (NaN) com a média inteira\n",
    "df_carros['Ano'].fillna(media_ano, inplace=True)\n",
    "\n",
    "print(\"\\n--- Preenchimento concluído e tipo de dado corrigido ---\")\n",
    "print(df_carros)\n",
    "\n",
    "# 5. Verificando o tipo da coluna 'Ano' (deve ser Int64)\n",
    "print(\"\\nVerificação do Tipo de Dado (DTYPE):\")\n",
    "df_carros.info()"
   ]
  },
  {
   "cell_type": "code",
   "execution_count": null,
   "id": "8",
   "metadata": {},
   "outputs": [],
   "source": []
  }
 ],
 "metadata": {
  "jupytext": {
   "formats": "ipynb,py:percent"
  },
  "kernelspec": {
   "display_name": "Python 3 (ipykernel)",
   "language": "python",
   "name": "python3"
  },
  "language_info": {
   "codemirror_mode": {
    "name": "ipython",
    "version": 3
   },
   "file_extension": ".py",
   "mimetype": "text/x-python",
   "name": "python",
   "nbconvert_exporter": "python",
   "pygments_lexer": "ipython3",
   "version": "3.12.3"
  }
 },
 "nbformat": 4,
 "nbformat_minor": 5
}
