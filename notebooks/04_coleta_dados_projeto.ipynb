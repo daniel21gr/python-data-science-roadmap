{
 "cells": [
  {
   "cell_type": "code",
   "execution_count": null,
   "id": "0",
   "metadata": {},
   "outputs": [],
   "source": [
    "# Módulo 4: Coleta de Dados e Projeto\n",
    "\n",
    "# Módulo para fazer requisições HTTP (comunicação web)\n",
    "import requests\n",
    "# Módulo essencial para manipulação e análise de dados tabulares\n",
    "import pandas as pd"
   ]
  },
  {
   "cell_type": "code",
   "execution_count": null,
   "id": "1",
   "metadata": {},
   "outputs": [],
   "source": [
    "# Documentação: Fazer a requisição GET e converter o JSON.\n",
    "\n",
    "# Endpoint (URL) da API para buscar comentários do Post ID 1\n",
    "url_api = \"https://jsonplaceholder.typicode.com/posts/1/comments\"\n",
    "\n",
    "# ETAPA A: Fazer a requisição HTTP GET\n",
    "response = requests.get(url_api)\n",
    "\n",
    "# ETAPA B: Verificar o Status\n",
    "# O código 200 significa \"OK\" (sucesso).\n",
    "if response.status_code == 200:\n",
    "    \n",
    "    # ETAPA C: Converter a resposta JSON em uma Lista de Dicionários Python\n",
    "    # Essa variável é a base para nossa análise com Pandas!\n",
    "    dados_comentarios = response.json()\n",
    "    \n",
    "    print(f\"Sucesso! Dados recebidos. Total de itens: {len(dados_comentarios)}\")\n",
    "    \n",
    "    # Exibe o primeiro item (que é um Dicionário) para inspeção\n",
    "    print(\"\\n--- Estrutura do Primeiro Item (Dicionário) ---\")\n",
    "    print(dados_comentarios[0])\n",
    "    \n",
    "else:\n",
    "    print(f\"Erro ao acessar a API. Status Code: {response.status_code}\")\n",
    "    dados_comentarios = [] # Garante que a variável exista mesmo em caso de erro"
   ]
  },
  {
   "cell_type": "code",
   "execution_count": null,
   "id": "2",
   "metadata": {},
   "outputs": [],
   "source": [
    "# Documentação: Análise de dados da web usando o Pandas.\n",
    "\n",
    "# 1. TRANSFORMAÇÃO: Converta a lista de dicionários em um DataFrame Pandas\n",
    "df_comentarios = pd.DataFrame(dados_comentarios)\n",
    "\n",
    "# 2. PROCESSAMENTO: Crie a nova coluna 'tamanho_corpo'\n",
    "# Use a função de string do Pandas para calcular o comprimento (len) do texto na coluna 'body'6\n",
    "df_comentarios['tamanho_corpo'] = df_comentarios['body'].str.len()\n",
    "\n",
    "# 3. ANÁLISE: Calcule e imprima a média e o máximo do 'tamanho_corpo'\n",
    "media_tamanho = df_comentarios['tamanho_corpo'].mean()\n",
    "max_tamanho = df_comentarios['tamanho_corpo'].max()\n",
    "\n",
    "print(\"\\n--- Resultados da Análise de Comentários ---\")\n",
    "print(f\"Média do tamanho dos comentários: {media_tamanho:.0f} caracteres\")\n",
    "print(f\"Tamanho máximo de um comentário: {max_tamanho} caracteres\")\n",
    "\n",
    "print(\"\\n--- Visualização do Resultado ---\")\n",
    "print(df_comentarios[['name', 'body', 'tamanho_corpo']].head(3))"
   ]
  }
 ],
 "metadata": {
  "jupytext": {
   "formats": "ipynb,py:percent"
  },
  "kernelspec": {
   "display_name": "Python 3 (ipykernel)",
   "language": "python",
   "name": "python3"
  },
  "language_info": {
   "codemirror_mode": {
    "name": "ipython",
    "version": 3
   },
   "file_extension": ".py",
   "mimetype": "text/x-python",
   "name": "python",
   "nbconvert_exporter": "python",
   "pygments_lexer": "ipython3",
   "version": "3.12.3"
  }
 },
 "nbformat": 4,
 "nbformat_minor": 5
}
