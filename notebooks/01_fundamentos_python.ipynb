{
 "cells": [
  {
   "cell_type": "code",
   "execution_count": null,
   "id": "0",
   "metadata": {},
   "outputs": [],
   "source": [
    "# Módulo 1: Fundamentos do Python\n",
    "\n",
    "# Documentação: Definindo variáveis para o nosso cálculo.\n",
    "\n",
    "# Variável 'str' (texto) para identificar o que estamos calculando\n",
    "nome_do_projeto = \"Cálculo de Área\"\n",
    "\n",
    "# Variável 'int' (inteiro) que representa o lado do nosso quadrado\n",
    "lado_do_quadrado = 5"
   ]
  },
  {
   "cell_type": "code",
   "execution_count": null,
   "id": "1",
   "metadata": {},
   "outputs": [],
   "source": [
    "# Documentação: Realizando a operação matemática.\n",
    "\n",
    "# A área é calculada multiplicando o lado por ele mesmo.\n",
    "# O resultado da expressão (5 * 5) é atribuído à variável 'area'.\n",
    "area_do_quadrado = lado_do_quadrado * lado_do_quadrado"
   ]
  },
  {
   "cell_type": "code",
   "execution_count": null,
   "id": "2",
   "metadata": {},
   "outputs": [],
   "source": [
    "# Documentação: Exibindo os resultados usando a função print().\n",
    "\n",
    "print(nome_do_projeto)\n",
    "print(\"---\") # Imprime uma linha separadora\n",
    "\n",
    "# Imprime o texto e o valor da variável 'area_do_quadrado'\n",
    "print(\"A área calculada é:\", area_do_quadrado)\n",
    "\n",
    "# Você também pode usar a variável diretamente para mostrar o valor na última célula do Jupyter\n",
    "# area_do_quadrado"
   ]
  },
  {
   "cell_type": "code",
   "execution_count": null,
   "id": "3",
   "metadata": {},
   "outputs": [],
   "source": [
    "# Exercício de Fixação\n",
    "\n",
    "# Desafio:\n",
    "# Crie uma nova célula (ou modifique a Célula 1).\n",
    "# Crie uma variável chamada raio e atribua a ela o valor 7.5 (Este é um número float).\n",
    "# Crie outra variável chamada PI e atribua o valor 3.14159 a ela.\n",
    "# Crie uma variável chamada circunferencia e use a fórmula:\n",
    "#     Circunferência=2×PI×raio\n",
    "# Use a função print() para exibir o valor de circunferencia.\n",
    "\n",
    "# Documentação: Definindo variáveis para o cálculo.\n",
    "nome_do_projeto = \"Cálculo de Circunferência\"\n",
    "\n",
    "raio = 7.5\n",
    "pi = 3.14159"
   ]
  },
  {
   "cell_type": "code",
   "execution_count": null,
   "id": "4",
   "metadata": {},
   "outputs": [],
   "source": [
    "# Documentação: Realizando operação matemática.\n",
    "\n",
    "circunferencia = 2 * pi * raio"
   ]
  },
  {
   "cell_type": "code",
   "execution_count": null,
   "id": "5",
   "metadata": {},
   "outputs": [],
   "source": [
    "# Documentação: Exibindo resultados usando a função print().\n",
    "\n",
    "print(nome_do_projeto)\n",
    "print(\"---\")\n",
    "\n",
    "print(\"Circunferência é:\", circunferencia)"
   ]
  }
 ],
 "metadata": {
  "jupytext": {
   "formats": "ipynb,py:percent"
  },
  "kernelspec": {
   "display_name": "Python 3 (ipykernel)",
   "language": "python",
   "name": "python3"
  },
  "language_info": {
   "codemirror_mode": {
    "name": "ipython",
    "version": 3
   },
   "file_extension": ".py",
   "mimetype": "text/x-python",
   "name": "python",
   "nbconvert_exporter": "python",
   "pygments_lexer": "ipython3",
   "version": "3.12.3"
  }
 },
 "nbformat": 4,
 "nbformat_minor": 5
}
