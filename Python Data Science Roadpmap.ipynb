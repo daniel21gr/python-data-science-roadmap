{
 "cells": [
  {
   "cell_type": "code",
   "execution_count": 1,
   "id": "82a304df",
   "metadata": {},
   "outputs": [],
   "source": [
    "# Documentação: Definindo variáveis para o nosso cálculo.\n",
    "\n",
    "# Variável 'str' (texto) para identificar o que estamos calculando\n",
    "nome_do_projeto = \"Cálculo de Área\"\n",
    "\n",
    "# Variável 'int' (inteiro) que representa o lado do nosso quadrado\n",
    "lado_do_quadrado = 5"
   ]
  },
  {
   "cell_type": "code",
   "execution_count": 2,
   "id": "c20258aa",
   "metadata": {},
   "outputs": [],
   "source": [
    "# Documentação: Realizando a operação matemática.\n",
    "\n",
    "# A área é calculada multiplicando o lado por ele mesmo.\n",
    "# O resultado da expressão (5 * 5) é atribuído à variável 'area'.\n",
    "area_do_quadrado = lado_do_quadrado * lado_do_quadrado"
   ]
  },
  {
   "cell_type": "code",
   "execution_count": 3,
   "id": "ca99dddc",
   "metadata": {},
   "outputs": [
    {
     "name": "stdout",
     "output_type": "stream",
     "text": [
      "Cálculo de Área\n",
      "---\n",
      "A área calculada é: 25\n"
     ]
    }
   ],
   "source": [
    "# Documentação: Exibindo os resultados usando a função print().\n",
    "\n",
    "print(nome_do_projeto)\n",
    "print(\"---\") # Imprime uma linha separadora\n",
    "\n",
    "# Imprime o texto e o valor da variável 'area_do_quadrado'\n",
    "print(\"A área calculada é:\", area_do_quadrado)\n",
    "\n",
    "# Você também pode usar a variável diretamente para mostrar o valor na última célula do Jupyter\n",
    "# area_do_quadrado"
   ]
  },
  {
   "cell_type": "code",
   "execution_count": 4,
   "id": "5fd0ccf9",
   "metadata": {},
   "outputs": [],
   "source": [
    "nome_do_projeto = \"Cálculo de Circunferência\"\n",
    "\n",
    "raio = 7.5\n",
    "pi = 3.14159"
   ]
  },
  {
   "cell_type": "code",
   "execution_count": 5,
   "id": "3fb9c175",
   "metadata": {},
   "outputs": [],
   "source": [
    "circunferencia = 2 * pi * raio"
   ]
  },
  {
   "cell_type": "code",
   "execution_count": 6,
   "id": "5016e976",
   "metadata": {},
   "outputs": [
    {
     "name": "stdout",
     "output_type": "stream",
     "text": [
      "Cálculo de Circunferência\n",
      "---\n",
      "Circunferência é: 47.12385\n"
     ]
    }
   ],
   "source": [
    "print(nome_do_projeto)\n",
    "print(\"---\")\n",
    "\n",
    "print(\"Circunferência é:\", circunferencia)"
   ]
  },
  {
   "cell_type": "code",
   "execution_count": 7,
   "id": "a4b2c6f9",
   "metadata": {},
   "outputs": [
    {
     "name": "stdout",
     "output_type": "stream",
     "text": [
      "Lista completa de produtos: ['Laptop', 'Mouse', 'Teclado', 'Monitor', 'Webcam']\n",
      "O primeiro produto (índice 0) é: Laptop\n",
      "A lista após a atualização do índice 4: ['Laptop', 'Mouse', 'Teclado', 'Monitor', 'Webcam HD']\n"
     ]
    }
   ],
   "source": [
    "# Documentação: Criando e acessando itens em uma Lista.\n",
    "\n",
    "# 1. Criação da Lista\n",
    "produtos = [\"Laptop\", \"Mouse\", \"Teclado\", \"Monitor\", \"Webcam\"]\n",
    "\n",
    "# 2. Imprimindo a lista inteira\n",
    "print(\"Lista completa de produtos:\", produtos)\n",
    "\n",
    "# 3. Acessando um item: Python usa indexação baseada em ZERO!\n",
    "# O primeiro item está no índice 0.\n",
    "primeiro_produto = produtos[0]\n",
    "print(\"O primeiro produto (índice 0) é:\", primeiro_produto)\n",
    "\n",
    "# 4. Alterando um item: Listas são MUTÁVEIS.\n",
    "produtos[4] = \"Webcam HD\"\n",
    "print(\"A lista após a atualização do índice 4:\", produtos)"
   ]
  },
  {
   "cell_type": "code",
   "execution_count": 8,
   "id": "cf23234b",
   "metadata": {},
   "outputs": [
    {
     "name": "stdout",
     "output_type": "stream",
     "text": [
      "O preço do produto é: 999.99\n",
      "Status de estoque atualizado: False\n"
     ]
    }
   ],
   "source": [
    "# Documentação: Criando e acessando dados em um Dicionário.\n",
    "\n",
    "# 1. Criação do Dicionário\n",
    "dados_produto = {\n",
    "    \"nome\": \"Smartphone X\",\n",
    "    \"preco\": 999.99,\n",
    "    \"em_estoque\": True,\n",
    "    \"categorias\": [\"Eletronicos\", \"Comunicação\"] # Um valor pode ser uma LISTA!\n",
    "}\n",
    "\n",
    "# 2. Acessando um Valor pela Chave (não pelo índice!)\n",
    "preco_do_produto = dados_produto[\"preco\"]\n",
    "print(\"O preço do produto é:\", preco_do_produto)\n",
    "\n",
    "# 3. Alterando um Valor\n",
    "# Mudando o status de estoque\n",
    "dados_produto[\"em_estoque\"] = False\n",
    "print(\"Status de estoque atualizado:\", dados_produto[\"em_estoque\"])"
   ]
  },
  {
   "cell_type": "code",
   "execution_count": 9,
   "id": "881b0e22",
   "metadata": {},
   "outputs": [
    {
     "name": "stdout",
     "output_type": "stream",
     "text": [
      "10\n"
     ]
    }
   ],
   "source": [
    "registro_vendas = [\n",
    "    {\n",
    "        \"item\": \"Laptop\",\n",
    "        \"quantidade\": 1,\n",
    "        \"valor_unitario\": 5000.99\n",
    "    },\n",
    "    {\n",
    "        \"item\": \"Mouse\",\n",
    "        \"quantidade\": 10,\n",
    "        \"valor_unitario\": 299.99\n",
    "    },\n",
    "    {\n",
    "        \"item\": \"Teclado\",\n",
    "        \"quantidade\": 5,\n",
    "        \"valor_unitario\": 499.99\n",
    "    },\n",
    "]\n",
    "\n",
    "segundo_item = registro_vendas[1]\n",
    "print(segundo_item[\"quantidade\"])"
   ]
  },
  {
   "cell_type": "code",
   "execution_count": 10,
   "id": "2690c220",
   "metadata": {},
   "outputs": [
    {
     "name": "stdout",
     "output_type": "stream",
     "text": [
      "Verificando estoque para: Laptop. Quantidade: 1\n",
      "ESTOQUE BAIXO! Reabastecer em breve.\n"
     ]
    }
   ],
   "source": [
    "# Documentação: Usando 'if', 'elif' e 'else' para tomar decisões.\n",
    "\n",
    "# Reutilizando seu dado de vendas: vamos focar no primeiro item\n",
    "primeiro_registro = registro_vendas[0] # Dicionário do \"Laptop\"\n",
    "quantidade_atual = primeiro_registro[\"quantidade\"]\n",
    "nome_item = primeiro_registro[\"item\"]\n",
    "\n",
    "print(f\"Verificando estoque para: {nome_item}. Quantidade: {quantidade_atual}\")\n",
    "\n",
    "if quantidade_atual == 0:\n",
    "    # Este bloco é executado se a condição for True\n",
    "    print(\"ESTOQUE ZERADO! Pedido urgente necessário.\")\n",
    "elif quantidade_atual < 5:\n",
    "    # Este bloco é executado se a primeira condição for False, mas esta for True\n",
    "    print(\"ESTOQUE BAIXO! Reabastecer em breve.\")\n",
    "else:\n",
    "    # Este bloco é executado se NENHUMA das condições anteriores for True\n",
    "    print(\"Estoque suficiente. Tudo certo.\")"
   ]
  },
  {
   "cell_type": "code",
   "execution_count": 11,
   "id": "ef68881b",
   "metadata": {},
   "outputs": [
    {
     "name": "stdout",
     "output_type": "stream",
     "text": [
      "Venda de Laptop: 1 x R$5000.99 = R$5000.99\n",
      "Venda de Mouse: 10 x R$299.99 = R$2999.90\n",
      "Venda de Teclado: 5 x R$499.99 = R$2499.95\n",
      "\n",
      "---\n",
      "TOTAL GERAL DE VENDAS: R$10500.84\n"
     ]
    }
   ],
   "source": [
    "# Documentação: Usando um loop 'for' para processar cada item de uma lista.\n",
    "\n",
    "# Inicializa uma variável para acumular o total geral\n",
    "total_geral_vendas = 0\n",
    "\n",
    "# Loop 'for': 'venda' será o nome da variável temporária que representa cada dicionário\n",
    "for venda in registro_vendas:\n",
    "    # 1. Extrai os valores do dicionário atual\n",
    "    item = venda[\"item\"]\n",
    "    quantidade = venda[\"quantidade\"]\n",
    "    valor_unitario = venda[\"valor_unitario\"]\n",
    "\n",
    "    # 2. Calcula o total da transação\n",
    "    total_transacao = quantidade * valor_unitario\n",
    "    \n",
    "    # 3. Acumula no total geral\n",
    "    total_geral_vendas = total_geral_vendas + total_transacao\n",
    "\n",
    "    # 4. Imprime um resumo para a transação atual (opcional)\n",
    "    print(f\"Venda de {item}: {quantidade} x R${valor_unitario:.2f} = R${total_transacao:.2f}\")\n",
    "\n",
    "print(\"\\n---\")\n",
    "print(f\"TOTAL GERAL DE VENDAS: R${total_geral_vendas:.2f}\")"
   ]
  },
  {
   "cell_type": "code",
   "execution_count": 13,
   "id": "62ca00bc",
   "metadata": {},
   "outputs": [
    {
     "name": "stdout",
     "output_type": "stream",
     "text": [
      "Área de um quadrado com lado 10: 100\n",
      "Área de um quadrado com lado 7.5: 56.25\n"
     ]
    }
   ],
   "source": [
    "# Documentação: Função para calcular a área de um quadrado.\n",
    "\n",
    "def calcular_area_quadrado(lado):\n",
    "    \"\"\"\n",
    "    Calcula e retorna a área de um quadrado.\n",
    "    :param lado: O comprimento do lado do quadrado (int ou float).\n",
    "    :return: A área do quadrado (lado * lado).\n",
    "    \"\"\"\n",
    "    area = lado * lado\n",
    "    return area # O resultado da área é retornado\n",
    "    \n",
    "# --- Chamando a Função (Uso) ---\n",
    "\n",
    "# 1. Chamando com um valor simples\n",
    "area1 = calcular_area_quadrado(10) \n",
    "print(f\"Área de um quadrado com lado 10: {area1}\")\n",
    "\n",
    "# 2. Chamando com outro valor (reutilização)\n",
    "area2 = calcular_area_quadrado(7.5)\n",
    "print(f\"Área de um quadrado com lado 7.5: {area2}\")"
   ]
  },
  {
   "cell_type": "code",
   "execution_count": 14,
   "id": "51a9b3f1",
   "metadata": {},
   "outputs": [
    {
     "name": "stdout",
     "output_type": "stream",
     "text": [
      "OK: Mouse possui estoque suficiente (10).\n",
      "ALERTA BAIXO: Teclado precisa de reposição.\n"
     ]
    }
   ],
   "source": [
    "# Documentação: Função para analisar e retornar o status do estoque.\n",
    "\n",
    "def verificar_status_estoque(item, quantidade_atual, limite_baixo=5):\n",
    "    \"\"\"\n",
    "    Verifica o nível de estoque com base em um limite e retorna uma mensagem.\n",
    "    :param item: Nome do produto (str).\n",
    "    :param quantidade_atual: Quantidade em estoque (int).\n",
    "    :param limite_baixo: Limite para considerar 'estoque baixo'. Padrão é 5.\n",
    "    :return: Uma string com o status do estoque.\n",
    "    \"\"\"\n",
    "    if quantidade_atual == 0:\n",
    "        status = f\"ALERTA URGENTE: {item} está ZERADO.\"\n",
    "    elif quantidade_atual < limite_baixo:\n",
    "        status = f\"ALERTA BAIXO: {item} precisa de reposição.\"\n",
    "    else:\n",
    "        status = f\"OK: {item} possui estoque suficiente ({quantidade_atual}).\"\n",
    "        \n",
    "    return status\n",
    "\n",
    "# --- Chamando a Função ---\n",
    "\n",
    "# Reutilizando seu registro de vendas\n",
    "status_mouse = verificar_status_estoque(\"Mouse\", registro_vendas[1][\"quantidade\"])\n",
    "print(status_mouse) # Esperado: OK (10 é maior que o padrão 5)\n",
    "\n",
    "# Testando com o limite baixo\n",
    "status_teclado = verificar_status_estoque(\"Teclado\", registro_vendas[2][\"quantidade\"], 8)\n",
    "print(status_teclado) # Esperado: ALERTA BAIXO (5 é menor que 8)"
   ]
  },
  {
   "cell_type": "code",
   "execution_count": 1,
   "id": "3395b804",
   "metadata": {},
   "outputs": [],
   "source": [
    "# Documentação: Importando a biblioteca NumPy\n",
    "import numpy as np"
   ]
  },
  {
   "cell_type": "code",
   "execution_count": 2,
   "id": "c4c2b7e2",
   "metadata": {},
   "outputs": [
    {
     "name": "stdout",
     "output_type": "stream",
     "text": [
      "Lista Python: [100, 250, 400, 120]\n",
      "Array NumPy: [100 250 400 120]\n",
      "\n",
      "---\n",
      "Vendas com aumento de 10%: [110. 275. 440. 132.]\n",
      "Média das vendas originais: R$217.50\n"
     ]
    }
   ],
   "source": [
    "# 1. Criação de um Array (Vetor 1D)\n",
    "dados_vendas = [100, 250, 400, 120] # Lista Python\n",
    "vendas_array = np.array(dados_vendas) # Array NumPy\n",
    "\n",
    "print(f\"Lista Python: {dados_vendas}\")\n",
    "print(f\"Array NumPy: {vendas_array}\")\n",
    "\n",
    "# 2. Operações em Massa: Aplicando um aumento de 10% em todas as vendas\n",
    "aumento_percentual = 0.10\n",
    "vendas_com_aumento = vendas_array * (1 + aumento_percentual)\n",
    "\n",
    "print(\"\\n---\")\n",
    "# A operação de multiplicação foi aplicada a CADA elemento do array, de uma vez!\n",
    "print(f\"Vendas com aumento de 10%: {vendas_com_aumento}\")\n",
    "\n",
    "# 3. Funções Úteis: Cálculo rápido de estatísticas\n",
    "media_vendas = np.mean(vendas_array)\n",
    "print(f\"Média das vendas originais: R${media_vendas:.2f}\")"
   ]
  },
  {
   "cell_type": "code",
   "execution_count": 3,
   "id": "a56e8b4e",
   "metadata": {},
   "outputs": [],
   "source": [
    "# Documentação: Importando a biblioteca Pandas\n",
    "import pandas as pd"
   ]
  },
  {
   "cell_type": "code",
   "execution_count": 4,
   "id": "5e8bfee4",
   "metadata": {},
   "outputs": [
    {
     "name": "stdout",
     "output_type": "stream",
     "text": [
      "Seu DataFrame (Tabela de Dados):\n",
      "      item  quantidade  valor_unitario\n",
      "0   Laptop           1         5000.99\n",
      "1    Mouse          10          299.99\n",
      "2  Teclado           5          499.99\n",
      "\n",
      "---\n",
      "DataFrame com coluna 'valor_total' adicionada:\n",
      "      item  quantidade  valor_unitario  valor_total\n",
      "0   Laptop           1         5000.99      5000.99\n",
      "1    Mouse          10          299.99      2999.90\n",
      "2  Teclado           5          499.99      2499.95\n",
      "\n",
      "Média do valor unitário: R$1933.66\n"
     ]
    }
   ],
   "source": [
    "# Reutilizando a sua lista de dicionários do Módulo 2\n",
    "registro_vendas = [\n",
    "    {\"item\": \"Laptop\", \"quantidade\": 1, \"valor_unitario\": 5000.99},\n",
    "    {\"item\": \"Mouse\", \"quantidade\": 10, \"valor_unitario\": 299.99},\n",
    "    {\"item\": \"Teclado\", \"quantidade\": 5, \"valor_unitario\": 499.99},\n",
    "]\n",
    "\n",
    "# 1. Criação do DataFrame\n",
    "df_vendas = pd.DataFrame(registro_vendas)\n",
    "\n",
    "# 2. Exibindo o DataFrame (O Jupyter mostra isso como uma tabela formatada!)\n",
    "print(\"Seu DataFrame (Tabela de Dados):\")\n",
    "print(df_vendas)\n",
    "\n",
    "# 3. Adicionando uma nova coluna (Processamento de Dados)\n",
    "# O Pandas, assim como o NumPy, aplica a multiplicação em todos os valores da coluna\n",
    "df_vendas['valor_total'] = df_vendas['quantidade'] * df_vendas['valor_unitario']\n",
    "\n",
    "# 4. Análise Rápida: Exibindo a média da coluna 'valor_unitario'\n",
    "media_unitario = df_vendas['valor_unitario'].mean()\n",
    "\n",
    "print(\"\\n---\")\n",
    "print(\"DataFrame com coluna 'valor_total' adicionada:\")\n",
    "print(df_vendas)\n",
    "print(f\"\\nMédia do valor unitário: R${media_unitario:.2f}\")"
   ]
  },
  {
   "cell_type": "code",
   "execution_count": 6,
   "id": "0a7f8ce8",
   "metadata": {},
   "outputs": [
    {
     "name": "stdout",
     "output_type": "stream",
     "text": [
      "    item  quantidade  valor_unitario  valor_total\n",
      "1  Mouse          10          299.99       2999.9\n"
     ]
    }
   ],
   "source": [
    "filtered_df = df_vendas[df_vendas['quantidade'] > 5]\n",
    "print(filtered_df)"
   ]
  },
  {
   "cell_type": "code",
   "execution_count": 7,
   "id": "2e1b2cea",
   "metadata": {},
   "outputs": [
    {
     "name": "stdout",
     "output_type": "stream",
     "text": [
      "Arquivo 'carros.csv' criado com dados de exemplo e ausentes.\n"
     ]
    }
   ],
   "source": [
    "import pandas as pd\n",
    "import numpy as np\n",
    "\n",
    "# Dados simulados com valores ausentes (NaN)\n",
    "dados = {\n",
    "    'Marca': ['Toyota', 'Honda', 'Ford', 'Tesla', 'Chevrolet', 'BMW'],\n",
    "    'Modelo': ['Corolla', 'Civic', 'Fusion', 'Model 3', 'Cruze', 'X1'],\n",
    "    'Preco': [25000, 32000, np.nan, 55000, 21000, 48000], # Preço do Fusion está ausente\n",
    "    'Ano': [2018, 2020, 2017, 2022, 2019, np.nan],        # Ano do BMW está ausente\n",
    "    'Quilometragem': [50000, 30000, 65000, 15000, 40000, 20000]\n",
    "}\n",
    "\n",
    "# Cria o DataFrame e salva como CSV\n",
    "df_exemplo = pd.DataFrame(dados)\n",
    "df_exemplo.to_csv('carros.csv', index=False) # index=False evita salvar o índice como coluna\n",
    "\n",
    "print(\"Arquivo 'carros.csv' criado com dados de exemplo e ausentes.\")"
   ]
  },
  {
   "cell_type": "code",
   "execution_count": 8,
   "id": "a7b75995",
   "metadata": {},
   "outputs": [
    {
     "name": "stdout",
     "output_type": "stream",
     "text": [
      "--- DataFrame Carregado (As primeiras 5 linhas) ---\n",
      "       Marca   Modelo    Preco     Ano  Quilometragem\n",
      "0     Toyota  Corolla  25000.0  2018.0          50000\n",
      "1      Honda    Civic  32000.0  2020.0          30000\n",
      "2       Ford   Fusion      NaN  2017.0          65000\n",
      "3      Tesla  Model 3  55000.0  2022.0          15000\n",
      "4  Chevrolet    Cruze  21000.0  2019.0          40000\n",
      "\n",
      "--- Informações sobre o DataFrame (Missing Data) ---\n",
      "<class 'pandas.core.frame.DataFrame'>\n",
      "RangeIndex: 6 entries, 0 to 5\n",
      "Data columns (total 5 columns):\n",
      " #   Column         Non-Null Count  Dtype  \n",
      "---  ------         --------------  -----  \n",
      " 0   Marca          6 non-null      object \n",
      " 1   Modelo         6 non-null      object \n",
      " 2   Preco          5 non-null      float64\n",
      " 3   Ano            5 non-null      float64\n",
      " 4   Quilometragem  6 non-null      int64  \n",
      "dtypes: float64(2), int64(1), object(2)\n",
      "memory usage: 372.0+ bytes\n"
     ]
    }
   ],
   "source": [
    "# Documentação: Carregando o arquivo e visualizando as primeiras linhas.\n",
    "\n",
    "# Carrega o arquivo CSV em um novo DataFrame\n",
    "df_carros = pd.read_csv('carros.csv')\n",
    "\n",
    "print(\"--- DataFrame Carregado (As primeiras 5 linhas) ---\")\n",
    "# .head() mostra as primeiras 5 linhas\n",
    "print(df_carros.head()) \n",
    "\n",
    "print(\"\\n--- Informações sobre o DataFrame (Missing Data) ---\")\n",
    "# .info() é crucial para ver o tipo de dado de cada coluna e quantos valores não-nulos existem\n",
    "df_carros.info()"
   ]
  },
  {
   "cell_type": "code",
   "execution_count": 9,
   "id": "ccf056b7",
   "metadata": {},
   "outputs": [
    {
     "name": "stdout",
     "output_type": "stream",
     "text": [
      "Média do preço calculado: R$36200.00\n",
      "\n",
      "--- Preenchimento concluído (Preço do Fusion agora é a média) ---\n",
      "       Marca   Modelo    Preco     Ano  Quilometragem\n",
      "0     Toyota  Corolla  25000.0  2018.0          50000\n",
      "1      Honda    Civic  32000.0  2020.0          30000\n",
      "2       Ford   Fusion  36200.0  2017.0          65000\n",
      "3      Tesla  Model 3  55000.0  2022.0          15000\n",
      "4  Chevrolet    Cruze  21000.0  2019.0          40000\n",
      "5        BMW       X1  48000.0     NaN          20000\n"
     ]
    }
   ],
   "source": [
    "# Documentação: Preenchendo valores NaN com a média da coluna.\n",
    "\n",
    "# 1. Calculando a média da coluna 'Preco' (apenas para valores não-nulos)\n",
    "media_preco = df_carros['Preco'].mean()\n",
    "print(f\"Média do preço calculado: R${media_preco:.2f}\")\n",
    "\n",
    "# 2. Preenchendo os valores NaN na coluna 'Preco' com essa média\n",
    "# .fillna(valor, inplace=True) altera o DataFrame original\n",
    "df_carros['Preco'].fillna(media_preco, inplace=True)\n",
    "\n",
    "print(\"\\n--- Preenchimento concluído (Preço do Fusion agora é a média) ---\")\n",
    "print(df_carros)"
   ]
  },
  {
   "cell_type": "code",
   "execution_count": 16,
   "id": "11f93e13",
   "metadata": {},
   "outputs": [
    {
     "name": "stdout",
     "output_type": "stream",
     "text": [
      "       Marca   Modelo    Preco     Ano  Quilometragem\n",
      "0     Toyota  Corolla  25000.0  2018.0          50000\n",
      "1      Honda    Civic  32000.0  2020.0          30000\n",
      "2       Ford   Fusion  36200.0  2017.0          65000\n",
      "3      Tesla  Model 3  55000.0  2022.0          15000\n",
      "4  Chevrolet    Cruze  21000.0  2019.0          40000\n",
      "5        BMW       X1  48000.0  2019.2          20000\n",
      "Média do ano calculado: 2019\n",
      "\n",
      "--- Preenchimento concluído (Ano do X1 agora é o ano médio) ---\n",
      "       Marca   Modelo    Preco     Ano  Quilometragem\n",
      "0     Toyota  Corolla  25000.0  2018.0          50000\n",
      "1      Honda    Civic  32000.0  2020.0          30000\n",
      "2       Ford   Fusion  36200.0  2017.0          65000\n",
      "3      Tesla  Model 3  55000.0  2022.0          15000\n",
      "4  Chevrolet    Cruze  21000.0  2019.0          40000\n",
      "5        BMW       X1  48000.0  2019.2          20000\n"
     ]
    }
   ],
   "source": [
    "media_ano = int(df_carros['Ano'].mean())\n",
    "print(f\"Média do ano calculado: {media_ano}\")\n",
    "\n",
    "df_carros['Ano'].fillna(media_ano, inplace=True)\n",
    "\n",
    "print(\"\\n--- Preenchimento concluído (Ano do X1 agora é o ano médio) ---\")\n",
    "print(df_carros)"
   ]
  },
  {
   "cell_type": "code",
   "execution_count": 19,
   "id": "63b32b2e",
   "metadata": {},
   "outputs": [
    {
     "name": "stdout",
     "output_type": "stream",
     "text": [
      "Média do ano calculado (arredondado): 2019\n",
      "\n",
      "--- Preenchimento concluído e tipo de dado corrigido ---\n",
      "       Marca   Modelo    Preco   Ano  Quilometragem\n",
      "0     Toyota  Corolla  25000.0  2018          50000\n",
      "1      Honda    Civic  32000.0  2020          30000\n",
      "2       Ford   Fusion  36200.0  2017          65000\n",
      "3      Tesla  Model 3  55000.0  2022          15000\n",
      "4  Chevrolet    Cruze  21000.0  2019          40000\n",
      "5        BMW       X1  48000.0  2019          20000\n",
      "\n",
      "Verificação do Tipo de Dado (DTYPE):\n",
      "<class 'pandas.core.frame.DataFrame'>\n",
      "RangeIndex: 6 entries, 0 to 5\n",
      "Data columns (total 5 columns):\n",
      " #   Column         Non-Null Count  Dtype  \n",
      "---  ------         --------------  -----  \n",
      " 0   Marca          6 non-null      object \n",
      " 1   Modelo         6 non-null      object \n",
      " 2   Preco          6 non-null      float64\n",
      " 3   Ano            6 non-null      Int64  \n",
      " 4   Quilometragem  6 non-null      int64  \n",
      "dtypes: Int64(1), float64(1), int64(1), object(2)\n",
      "memory usage: 378.0+ bytes\n"
     ]
    }
   ],
   "source": [
    "# Documentação: Correção do erro de conversão de tipo de dado.\n",
    "\n",
    "# 1. Aplicar .round(0) para garantir que todos os valores float terminem em .0\n",
    "# Isso torna a conversão para int \"segura\".\n",
    "df_carros['Ano'] = df_carros['Ano'].round(0)\n",
    "\n",
    "# 2. Agora, convertemos para o tipo Int64 (o que suporta NaN)\n",
    "# O erro TypeError não deve ocorrer mais.\n",
    "df_carros['Ano'] = df_carros['Ano'].astype('Int64') \n",
    "\n",
    "# 3. Calculamos a média (que agora será uma média de Int64) e preenchemos.\n",
    "# Usamos .floor() do numpy para arredondar para baixo, garantindo que seja um ano válido.\n",
    "# Importante: Como agora a coluna é Int64, .mean() pode retornar float, por isso o int() é mantido.\n",
    "media_ano = int(np.floor(df_carros['Ano'].mean())) \n",
    "\n",
    "print(f\"Média do ano calculado (arredondado): {media_ano}\")\n",
    "\n",
    "# 4. Preencher o valor faltante (NaN) com a média inteira\n",
    "df_carros['Ano'].fillna(media_ano, inplace=True)\n",
    "\n",
    "print(\"\\n--- Preenchimento concluído e tipo de dado corrigido ---\")\n",
    "print(df_carros)\n",
    "\n",
    "# 5. Verificando o tipo da coluna 'Ano' (deve ser Int64)\n",
    "print(\"\\nVerificação do Tipo de Dado (DTYPE):\")\n",
    "df_carros.info()"
   ]
  },
  {
   "cell_type": "code",
   "execution_count": null,
   "id": "8d8217b8",
   "metadata": {},
   "outputs": [],
   "source": []
  }
 ],
 "metadata": {
  "kernelspec": {
   "display_name": "Python 3 (ipykernel)",
   "language": "python",
   "name": "python3"
  },
  "language_info": {
   "codemirror_mode": {
    "name": "ipython",
    "version": 3
   },
   "file_extension": ".py",
   "mimetype": "text/x-python",
   "name": "python",
   "nbconvert_exporter": "python",
   "pygments_lexer": "ipython3",
   "version": "3.12.3"
  }
 },
 "nbformat": 4,
 "nbformat_minor": 5
}
